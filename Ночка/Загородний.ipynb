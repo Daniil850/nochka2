{
 "cells": [
  {
   "cell_type": "code",
   "execution_count": null,
   "id": "f8bebd70",
   "metadata": {},
   "outputs": [],
   "source": [
    "## № 86(a) "
   ]
  },
  {
   "cell_type": "code",
   "execution_count": 19,
   "id": "2cace7b4",
   "metadata": {},
   "outputs": [],
   "source": [
    "import numpy as np"
   ]
  },
  {
   "cell_type": "code",
   "execution_count": 20,
   "id": "91a9355d",
   "metadata": {},
   "outputs": [
    {
     "data": {
      "text/plain": [
       "array([[-1, -1, -1, -1],\n",
       "       [-1, -1, -1, -1],\n",
       "       [ 4,  3,  4,  2],\n",
       "       [-2,  0, -2,  1]])"
      ]
     },
     "execution_count": 20,
     "metadata": {},
     "output_type": "execute_result"
    }
   ],
   "source": [
    "A = np.array([[-1, -1, -1, -1],[-1, -1, -1, -1],[4, 3, 4, 2],[-2, 0, -2, 1]])\n",
    "A"
   ]
  },
  {
   "cell_type": "code",
   "execution_count": 21,
   "id": "dcc7e573",
   "metadata": {},
   "outputs": [
    {
     "data": {
      "text/plain": [
       "(array([1.00001178e+00+0.00000000e+00j, 9.99994111e-01+1.02005992e-05j,\n",
       "        9.99994111e-01-1.02005992e-05j, 3.70990693e-16+0.00000000e+00j]),\n",
       " array([[ 3.77962565e-01+0.00000000e+00j, -3.77965427e-01+3.85547385e-06j,\n",
       "         -3.77965427e-01-3.85547385e-06j,  7.07106781e-01+0.00000000e+00j],\n",
       "        [ 3.77962565e-01+0.00000000e+00j, -3.77965427e-01+3.85547385e-06j,\n",
       "         -3.77965427e-01-3.85547385e-06j,  2.25346008e-15+0.00000000e+00j],\n",
       "        [-3.77958113e-01+0.00000000e+00j,  3.77967653e-01-7.71092498e-06j,\n",
       "          3.77967653e-01+7.71092498e-06j, -7.07106781e-01+0.00000000e+00j],\n",
       "        [-7.55934034e-01+0.00000000e+00j,  7.55926402e-01+0.00000000e+00j,\n",
       "          7.55926402e-01-0.00000000e+00j, -1.96164485e-15+0.00000000e+00j]]))"
      ]
     },
     "execution_count": 21,
     "metadata": {},
     "output_type": "execute_result"
    }
   ],
   "source": [
    "np.linalg.eig(A) "
   ]
  },
  {
   "cell_type": "code",
   "execution_count": 22,
   "id": "17659273",
   "metadata": {},
   "outputs": [],
   "source": [
    "## 86(b)"
   ]
  },
  {
   "cell_type": "code",
   "execution_count": 23,
   "id": "47361c82",
   "metadata": {},
   "outputs": [
    {
     "data": {
      "text/plain": [
       "array([[-1, -2, -2, -1],\n",
       "       [ 2,  3,  2,  1],\n",
       "       [-3, -3,  0,  0],\n",
       "       [ 3,  3,  1,  1]])"
      ]
     },
     "execution_count": 23,
     "metadata": {},
     "output_type": "execute_result"
    }
   ],
   "source": [
    "A = np.array([[-1, -2, -2, -1],[2, 3, 2, 1],[-3, -3, 0, 0],[3, 3, 1, 1]])\n",
    "A"
   ]
  },
  {
   "cell_type": "code",
   "execution_count": 24,
   "id": "1e1db23b",
   "metadata": {},
   "outputs": [
    {
     "data": {
      "text/plain": [
       "(array([3.44070435e-15, 9.99999947e-01, 1.00000005e+00, 1.00000000e+00]),\n",
       " array([[-5.00000000e-01, -7.07106763e-01,  7.07106800e-01,\n",
       "         -3.53343000e-02],\n",
       "        [ 5.00000000e-01,  7.07106800e-01, -7.07106763e-01,\n",
       "          2.29851132e-01],\n",
       "        [-5.00000000e-01, -1.12049746e-07, -1.12049761e-07,\n",
       "         -5.83550495e-01],\n",
       "        [ 5.00000000e-01,  1.12049746e-07,  1.12049761e-07,\n",
       "          7.78067326e-01]]))"
      ]
     },
     "execution_count": 24,
     "metadata": {},
     "output_type": "execute_result"
    }
   ],
   "source": [
    "np.linalg.eig(A)"
   ]
  },
  {
   "cell_type": "code",
   "execution_count": 25,
   "id": "934faf8f",
   "metadata": {},
   "outputs": [],
   "source": [
    "##№ 86(c)"
   ]
  },
  {
   "cell_type": "code",
   "execution_count": 26,
   "id": "e172b891",
   "metadata": {},
   "outputs": [
    {
     "data": {
      "text/plain": [
       "array([[ 0,  2,  1,  1],\n",
       "       [ 1,  1,  1,  1],\n",
       "       [-1, -2, -2, -1],\n",
       "       [-1, -2, -1, -2]])"
      ]
     },
     "execution_count": 26,
     "metadata": {},
     "output_type": "execute_result"
    }
   ],
   "source": [
    "A = np.array([[0, 2, 1, 1],[1, 1, 1, 1],[-1, -2, -2, -1],[-1, -2, -1, -2]])\n",
    "A"
   ]
  },
  {
   "cell_type": "code",
   "execution_count": 27,
   "id": "4baa7912",
   "metadata": {},
   "outputs": [
    {
     "data": {
      "text/plain": [
       "(array([-5.36251823e-16, -1.00000000e+00, -1.00000000e+00, -1.00000000e+00]),\n",
       " array([[ 5.00000000e-01,  8.02918932e-16,  5.79813286e-01,\n",
       "         -1.88941534e-01],\n",
       "        [ 5.00000000e-01, -5.77350269e-01,  1.77250919e-01,\n",
       "         -4.73851171e-01],\n",
       "        [-5.00000000e-01,  5.77350269e-01, -7.80148208e-01,\n",
       "          3.51773427e-01],\n",
       "        [-5.00000000e-01,  5.77350269e-01, -1.54166916e-01,\n",
       "          7.84870448e-01]]))"
      ]
     },
     "execution_count": 27,
     "metadata": {},
     "output_type": "execute_result"
    }
   ],
   "source": [
    "np.linalg.eig(A)"
   ]
  },
  {
   "cell_type": "code",
   "execution_count": 28,
   "id": "b22c5f23",
   "metadata": {},
   "outputs": [],
   "source": [
    "## 86 (e)"
   ]
  },
  {
   "cell_type": "code",
   "execution_count": 29,
   "id": "40908f42",
   "metadata": {},
   "outputs": [
    {
     "data": {
      "text/plain": [
       "array([[ 0, -1,  1, -1],\n",
       "       [ 1,  2, -1,  1],\n",
       "       [ 3,  3, -1,  2],\n",
       "       [ 3,  3, -2,  3]])"
      ]
     },
     "execution_count": 29,
     "metadata": {},
     "output_type": "execute_result"
    }
   ],
   "source": [
    "A = np.array([[0, -1, 1, -1],[1, 2, -1, 1],[3, 3, -1, 2],[3, 3, -2, 3]])\n",
    "A"
   ]
  },
  {
   "cell_type": "code",
   "execution_count": 30,
   "id": "1dcddea4",
   "metadata": {},
   "outputs": [
    {
     "data": {
      "text/plain": [
       "(array([1.+2.58677832e-08j, 1.-2.58677832e-08j, 1.+1.09212341e-08j,\n",
       "        1.-1.09212341e-08j]),\n",
       " array([[-0.2236068 +5.78421217e-09j, -0.2236068 -5.78421217e-09j,\n",
       "          0.30862698-2.95729071e-09j,  0.30862698+2.95729071e-09j],\n",
       "        [ 0.2236068 +1.28069892e-25j,  0.2236068 -1.28069892e-25j,\n",
       "         -0.30862698+2.75038562e-09j, -0.30862698-2.75038562e-09j],\n",
       "        [ 0.67082039+0.00000000e+00j,  0.67082039-0.00000000e+00j,\n",
       "         -0.63619917+3.16368239e-09j, -0.63619917-3.16368239e-09j],\n",
       "        [ 0.67082039+1.22656729e-25j,  0.67082039-1.22656729e-25j,\n",
       "         -0.63619917+0.00000000e+00j, -0.63619917-0.00000000e+00j]]))"
      ]
     },
     "execution_count": 30,
     "metadata": {},
     "output_type": "execute_result"
    }
   ],
   "source": [
    "np.linalg.eig(A)"
   ]
  },
  {
   "cell_type": "code",
   "execution_count": 31,
   "id": "5940adc1",
   "metadata": {},
   "outputs": [],
   "source": [
    "## 86(d)"
   ]
  },
  {
   "cell_type": "code",
   "execution_count": 32,
   "id": "26ada7b1",
   "metadata": {},
   "outputs": [
    {
     "data": {
      "text/plain": [
       "array([[ 3, -3, -1,  2],\n",
       "       [-2,  2, -1,  2],\n",
       "       [ 2,  0,  3,  2],\n",
       "       [-3,  3,  0, -2]])"
      ]
     },
     "execution_count": 32,
     "metadata": {},
     "output_type": "execute_result"
    }
   ],
   "source": [
    "A = np.array([[3, -3, -1, 2],[-2, 2, -1, 2],[2, 0, 3, 2],[-3, 3, 0, -2]])\n",
    "A"
   ]
  },
  {
   "cell_type": "code",
   "execution_count": 33,
   "id": "0eca235b",
   "metadata": {},
   "outputs": [
    {
     "data": {
      "text/plain": [
       "(array([-2.,  5.,  1.,  2.]),\n",
       " array([[ 5.77350269e-01, -5.14495755e-01,  5.77350269e-01,\n",
       "         -4.08248290e-01],\n",
       "        [ 5.77350269e-01,  6.85994341e-01,  5.77350269e-01,\n",
       "         -4.08248290e-01],\n",
       "        [ 1.18066140e-17,  6.92590123e-17, -5.77350269e-01,\n",
       "          8.16496581e-01],\n",
       "        [-5.77350269e-01,  5.14495755e-01, -8.53528608e-16,\n",
       "          6.73868592e-16]]))"
      ]
     },
     "execution_count": 33,
     "metadata": {},
     "output_type": "execute_result"
    }
   ],
   "source": [
    "np.linalg.eig(A)"
   ]
  },
  {
   "cell_type": "code",
   "execution_count": 34,
   "id": "76eb8d87",
   "metadata": {},
   "outputs": [],
   "source": [
    "## 86(f)"
   ]
  },
  {
   "cell_type": "code",
   "execution_count": 35,
   "id": "2bc3dc87",
   "metadata": {},
   "outputs": [
    {
     "data": {
      "text/plain": [
       "array([[-5, -1,  2, -1],\n",
       "       [ 4,  0, -2,  1],\n",
       "       [-4, -1,  1, -1],\n",
       "       [ 4,  1, -2,  0]])"
      ]
     },
     "execution_count": 35,
     "metadata": {},
     "output_type": "execute_result"
    }
   ],
   "source": [
    "A = np.array([[-5, -1, 2, -1],[4, 0, -2, 1],[-4, -1, 1, -1],[4, 1, -2, 0]])\n",
    "A"
   ]
  },
  {
   "cell_type": "code",
   "execution_count": 36,
   "id": "c0c9231f",
   "metadata": {},
   "outputs": [
    {
     "data": {
      "text/plain": [
       "(array([-1.00000008, -0.99999992, -1.        , -1.        ]),\n",
       " array([[ 0.50000001,  0.49999999, -0.16398827, -0.10660915],\n",
       "        [-0.5       , -0.5       , -0.73640594, -0.46312493],\n",
       "        [ 0.5       ,  0.5       , -0.46411967, -0.00485856],\n",
       "        [-0.5       , -0.5       ,  0.46411967,  0.87984441]]))"
      ]
     },
     "execution_count": 36,
     "metadata": {},
     "output_type": "execute_result"
    }
   ],
   "source": [
    "np.linalg.eig(A)"
   ]
  }
 ],
 "metadata": {
  "kernelspec": {
   "display_name": "Python 3 (ipykernel)",
   "language": "python",
   "name": "python3"
  },
  "language_info": {
   "codemirror_mode": {
    "name": "ipython",
    "version": 3
   },
   "file_extension": ".py",
   "mimetype": "text/x-python",
   "name": "python",
   "nbconvert_exporter": "python",
   "pygments_lexer": "ipython3",
   "version": "3.9.7"
  }
 },
 "nbformat": 4,
 "nbformat_minor": 5
}
