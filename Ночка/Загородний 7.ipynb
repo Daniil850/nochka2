{
 "cells": [
  {
   "cell_type": "code",
   "execution_count": null,
   "id": "2c789ff8",
   "metadata": {},
   "outputs": [],
   "source": [
    "##77e №1"
   ]
  },
  {
   "cell_type": "code",
   "execution_count": 1,
   "id": "ef193edc",
   "metadata": {},
   "outputs": [
    {
     "data": {
      "text/plain": [
       "array([[ 1,  0,  2, -1],\n",
       "       [ 2,  0,  0, -3],\n",
       "       [-1, -3,  3,  2],\n",
       "       [-3,  3,  2,  3]])"
      ]
     },
     "execution_count": 1,
     "metadata": {},
     "output_type": "execute_result"
    }
   ],
   "source": [
    "import numpy as np\n",
    "A = np.array([[1, 0, 2, -1], \n",
    "              [2, 0, 0, -3], \n",
    "              [-1, -3, 3, 2],\n",
    "              [-3, 3, 2, 3]])\n",
    "A"
   ]
  },
  {
   "cell_type": "code",
   "execution_count": 2,
   "id": "ee30bdf3",
   "metadata": {},
   "outputs": [
    {
     "name": "stdout",
     "output_type": "stream",
     "text": [
      "[[ 0.   2.   2.   0.5]\n",
      " [ 2.   0.   0.  -3. ]\n",
      " [ 1.  -3.  -3.   2. ]\n",
      " [-3.   3.   2.   3. ]]\n"
     ]
    }
   ],
   "source": [
    "R1 = np.array([[0, 2, 2, 1/2], \n",
    "               [2, 0, 0, -3], \n",
    "               [1, -3, -3, 2],\n",
    "               [-3, 3, 2, 3]])\n",
    "print(R1)"
   ]
  },
  {
   "cell_type": "code",
   "execution_count": 3,
   "id": "6fe23053",
   "metadata": {},
   "outputs": [
    {
     "name": "stdout",
     "output_type": "stream",
     "text": [
      "[[ 0.   0.   2.   0.5]\n",
      " [ 2.   0.   0.  -3. ]\n",
      " [ 0.  -3.   3.   0.5]\n",
      " [ 0.   0.   5.  -1. ]]\n"
     ]
    }
   ],
   "source": [
    "R2 = np.array([[0, 0, 2, 1/2], \n",
    "               [2, 0, 0, -3], \n",
    "               [0, -3, 3, 1/2],\n",
    "               [0, 0, 5, -1]])\n",
    "print(R2)\n"
   ]
  },
  {
   "cell_type": "code",
   "execution_count": 4,
   "id": "bebe9a90",
   "metadata": {},
   "outputs": [
    {
     "name": "stdout",
     "output_type": "stream",
     "text": [
      "[[ 0.    0.    2.    0.5 ]\n",
      " [ 2.    0.    0.   -3.  ]\n",
      " [ 0.   -3.    0.   -0.25]\n",
      " [ 0.    0.    0.   -0.5 ]]\n"
     ]
    }
   ],
   "source": [
    "R3 = np.array([[0, 0, 2, 0.5], \n",
    "               [2, 0, 0, -3], \n",
    "               [0, -3, 0, -1/4],\n",
    "               [0, 0, 0, -2/4]])\n",
    "print(R3)"
   ]
  },
  {
   "cell_type": "code",
   "execution_count": 5,
   "id": "bf0914b3",
   "metadata": {},
   "outputs": [
    {
     "data": {
      "text/plain": [
       "(array([[-138.  ,  183.  ,  -10.5 ,  137.5 ],\n",
       "        [  56.  , -153.  ,   57.  ,  -60.  ],\n",
       "        [ -67.  ,   36.  ,   17.25,   57.75],\n",
       "        [  16.  ,  -36.  ,   10.5 ,  -16.5 ]]),)"
      ]
     },
     "execution_count": 5,
     "metadata": {},
     "output_type": "execute_result"
    }
   ],
   "source": [
    "U = R3.dot(R2.dot(R1.dot(A)))\n",
    "U,"
   ]
  },
  {
   "cell_type": "code",
   "execution_count": 6,
   "id": "1447b35d",
   "metadata": {},
   "outputs": [
    {
     "data": {
      "text/plain": [
       "array([[ -5.  , -24.  , -24.5 ,  36.5 ],\n",
       "       [-23.  ,  45.  ,  41.  , -10.  ],\n",
       "       [-29.  ,  19.5 ,  10.25,  22.25],\n",
       "       [ -4.  ,   9.  ,   8.5 ,  -3.5 ]])"
      ]
     },
     "execution_count": 6,
     "metadata": {},
     "output_type": "execute_result"
    }
   ],
   "source": [
    "T = R3.dot(R2.dot(R1))\n",
    "T"
   ]
  },
  {
   "cell_type": "code",
   "execution_count": 7,
   "id": "18f11443",
   "metadata": {},
   "outputs": [
    {
     "data": {
      "text/plain": [
       "array([[-0.05392157,  0.5462963 , -0.08823529, -2.68409586],\n",
       "       [-0.21078431,  0.62037037,  0.04901961, -3.65904139],\n",
       "       [ 0.20588235, -0.27777778, -0.11764706,  2.19281046],\n",
       "       [ 0.01960784,  0.2962963 , -0.05882353, -1.30174292]])"
      ]
     },
     "execution_count": 7,
     "metadata": {},
     "output_type": "execute_result"
    }
   ],
   "source": [
    "L = np.linalg.inv(T)\n",
    "L"
   ]
  },
  {
   "cell_type": "code",
   "execution_count": 8,
   "id": "1f7f2a61",
   "metadata": {},
   "outputs": [
    {
     "data": {
      "text/plain": [
       "array([[ 1.00000000e+00, -1.77635684e-15,  2.00000000e+00,\n",
       "        -1.00000000e+00],\n",
       "       [ 2.00000000e+00, -1.77635684e-14,  7.54951657e-15,\n",
       "        -3.00000000e+00],\n",
       "       [-1.00000000e+00, -3.00000000e+00,  3.00000000e+00,\n",
       "         2.00000000e+00],\n",
       "       [-3.00000000e+00,  3.00000000e+00,  2.00000000e+00,\n",
       "         3.00000000e+00]])"
      ]
     },
     "execution_count": 8,
     "metadata": {},
     "output_type": "execute_result"
    }
   ],
   "source": [
    "L.dot(U)"
   ]
  },
  {
   "cell_type": "code",
   "execution_count": 9,
   "id": "ba105aa4",
   "metadata": {},
   "outputs": [],
   "source": [
    "##77e №2"
   ]
  },
  {
   "cell_type": "code",
   "execution_count": 10,
   "id": "2e5b19f0",
   "metadata": {},
   "outputs": [
    {
     "data": {
      "text/plain": [
       "matrix([[ 1,  0,  2, -1],\n",
       "        [ 2,  0,  0, -3],\n",
       "        [-1, -3,  3,  2],\n",
       "        [-3,  3,  2,  3]])"
      ]
     },
     "execution_count": 10,
     "metadata": {},
     "output_type": "execute_result"
    }
   ],
   "source": [
    "A = np.matrix(\"1 0 2 -1; 2 0 0 -3; -1 -3 3 2; -3, 3, 2, 3\")\n",
    "A"
   ]
  },
  {
   "cell_type": "code",
   "execution_count": 11,
   "id": "8abae50d",
   "metadata": {},
   "outputs": [],
   "source": [
    "q, r = np.linalg.qr(A)"
   ]
  },
  {
   "cell_type": "code",
   "execution_count": 12,
   "id": "2d527301",
   "metadata": {},
   "outputs": [
    {
     "data": {
      "text/plain": [
       "matrix([[-0.25819889, -0.10127394, -0.76866834,  0.57639042],\n",
       "        [-0.51639778, -0.20254787, -0.36172628, -0.74930754],\n",
       "        [ 0.25819889,  0.86082846, -0.37303022, -0.23055617],\n",
       "        [ 0.77459667, -0.45573272, -0.37303022, -0.23055617]])"
      ]
     },
     "execution_count": 12,
     "metadata": {},
     "output_type": "execute_result"
    }
   ],
   "source": [
    "q"
   ]
  },
  {
   "cell_type": "code",
   "execution_count": 13,
   "id": "36201cfd",
   "metadata": {},
   "outputs": [
    {
     "data": {
      "text/plain": [
       "matrix([[-3.87298335,  1.54919334,  1.80739223,  4.64758002],\n",
       "        [ 0.        , -3.94968353,  1.46847208,  1.06337634],\n",
       "        [ 0.        ,  0.        , -3.40248778, -0.01130395],\n",
       "        [ 0.        ,  0.        ,  0.        ,  0.51875138]])"
      ]
     },
     "execution_count": 13,
     "metadata": {},
     "output_type": "execute_result"
    }
   ],
   "source": [
    "r"
   ]
  },
  {
   "cell_type": "code",
   "execution_count": 14,
   "id": "6cf17e35",
   "metadata": {},
   "outputs": [
    {
     "data": {
      "text/plain": [
       "matrix([[ 1.00000000e+00, -6.10852591e-16,  2.00000000e+00,\n",
       "         -1.00000000e+00],\n",
       "        [ 2.00000000e+00,  3.14451740e-16, -1.74757591e-16,\n",
       "         -3.00000000e+00],\n",
       "        [-1.00000000e+00, -3.00000000e+00,  3.00000000e+00,\n",
       "          2.00000000e+00],\n",
       "        [-3.00000000e+00,  3.00000000e+00,  2.00000000e+00,\n",
       "          3.00000000e+00]])"
      ]
     },
     "execution_count": 14,
     "metadata": {},
     "output_type": "execute_result"
    }
   ],
   "source": [
    "q.dot(r)"
   ]
  },
  {
   "cell_type": "code",
   "execution_count": 15,
   "id": "38b15254",
   "metadata": {},
   "outputs": [],
   "source": [
    "##77e №3"
   ]
  },
  {
   "cell_type": "code",
   "execution_count": 16,
   "id": "29d7b391",
   "metadata": {},
   "outputs": [
    {
     "data": {
      "text/plain": [
       "matrix([[ 1,  0,  2, -1],\n",
       "        [ 2,  0,  0, -3],\n",
       "        [-1, -3,  3,  2],\n",
       "        [-3,  3,  2,  3]])"
      ]
     },
     "execution_count": 16,
     "metadata": {},
     "output_type": "execute_result"
    }
   ],
   "source": [
    "A = np.matrix(\"1 0 2 -1; 2 0 0 -3; -1 -3 3 2; -3, 3, 2, 3\")\n",
    "A"
   ]
  },
  {
   "cell_type": "code",
   "execution_count": 17,
   "id": "98ddf3bd",
   "metadata": {},
   "outputs": [
    {
     "data": {
      "text/plain": [
       "matrix([[-0.07387554,  0.24789117, -0.73005361,  0.63254573],\n",
       "        [-0.49050331,  0.03965211, -0.53315712, -0.68816982],\n",
       "        [ 0.39952239,  0.87856736,  0.03292156, -0.25964866],\n",
       "        [ 0.77092851, -0.4063214 , -0.426241  , -0.2426742 ]])"
      ]
     },
     "execution_count": 17,
     "metadata": {},
     "output_type": "execute_result"
    }
   ],
   "source": [
    "u, s, v = np.linalg.svd(A)\n",
    "u"
   ]
  },
  {
   "cell_type": "code",
   "execution_count": 18,
   "id": "0c91481b",
   "metadata": {},
   "outputs": [
    {
     "data": {
      "text/plain": [
       "array([6.62154184, 4.55088007, 2.88937899, 0.31010212])"
      ]
     },
     "execution_count": 18,
     "metadata": {},
     "output_type": "execute_result"
    }
   ],
   "source": [
    "s"
   ]
  },
  {
   "cell_type": "code",
   "execution_count": 19,
   "id": "77ef3832",
   "metadata": {},
   "outputs": [
    {
     "data": {
      "text/plain": [
       "matrix([[-0.56892944,  0.16827174,  0.39155127,  0.7033431 ],\n",
       "        [ 0.14669519, -0.84701557,  0.50953697,  0.03764613],\n",
       "        [-0.19054835, -0.47674178, -0.76619389,  0.38646542],\n",
       "        [ 0.78644208,  0.16421488,  0.00257036,  0.59542903]])"
      ]
     },
     "execution_count": 19,
     "metadata": {},
     "output_type": "execute_result"
    }
   ],
   "source": [
    "v"
   ]
  }
 ],
 "metadata": {
  "kernelspec": {
   "display_name": "Python 3 (ipykernel)",
   "language": "python",
   "name": "python3"
  },
  "language_info": {
   "codemirror_mode": {
    "name": "ipython",
    "version": 3
   },
   "file_extension": ".py",
   "mimetype": "text/x-python",
   "name": "python",
   "nbconvert_exporter": "python",
   "pygments_lexer": "ipython3",
   "version": "3.9.7"
  }
 },
 "nbformat": 4,
 "nbformat_minor": 5
}
