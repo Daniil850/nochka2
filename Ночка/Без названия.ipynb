{
 "cells": [
  {
   "cell_type": "code",
   "execution_count": 15,
   "id": "8f7646db",
   "metadata": {},
   "outputs": [],
   "source": [
    "import random, numpy as np\n",
    "m_real = []\n",
    "n = 11\n",
    "for i in range(n):\n",
    "    m_row = []\n",
    "    for j in range(n):\n",
    "        m_row.append(random.randint(-3, 3))\n",
    "    m_real.append(m_row)\n",
    "\n",
    "m_real = np.array(m_real)\n",
    "# print(m_real)"
   ]
  },
  {
   "cell_type": "code",
   "execution_count": 16,
   "id": "e1206546",
   "metadata": {},
   "outputs": [],
   "source": [
    "m_complex = []\n",
    "n = 11\n",
    "for i in range(n):\n",
    "    m_row = []\n",
    "    for j in range(n):\n",
    "        x = complex(random.randint(-3, 3), random.randint(-3, 3))\n",
    "        m_row.append(x)\n",
    "    m_complex.append(m_row)\n",
    "m_complex = np.array(m_complex)    \n",
    "# print(m_complex)"
   ]
  },
  {
   "cell_type": "code",
   "execution_count": null,
   "id": "d68d91b5",
   "metadata": {},
   "outputs": [],
   "source": []
  },
  {
   "cell_type": "code",
   "execution_count": null,
   "id": "5785eb63",
   "metadata": {},
   "outputs": [],
   "source": []
  }
 ],
 "metadata": {
  "kernelspec": {
   "display_name": "Python 3 (ipykernel)",
   "language": "python",
   "name": "python3"
  },
  "language_info": {
   "codemirror_mode": {
    "name": "ipython",
    "version": 3
   },
   "file_extension": ".py",
   "mimetype": "text/x-python",
   "name": "python",
   "nbconvert_exporter": "python",
   "pygments_lexer": "ipython3",
   "version": "3.9.7"
  }
 },
 "nbformat": 4,
 "nbformat_minor": 5
}
