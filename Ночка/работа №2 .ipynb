{
 "cells": [
  {
   "cell_type": "code",
   "execution_count": 2,
   "id": "e64f6453",
   "metadata": {},
   "outputs": [
    {
     "name": "stdout",
     "output_type": "stream",
     "text": [
      "8.831760866327848\n",
      "Скалярное произведение: -18\n",
      "Длина вектора a: 4.242640687119285\n",
      "Длина вектора b: 4.898979485566356\n",
      "Cos: -0.8660254037844388\n",
      "Угол между векторами: 150.00000000000003\n"
     ]
    }
   ],
   "source": [
    "#105 a\n",
    "import numpy as np\n",
    "import math\n",
    "point_1 = np.array([3, -2, 2, -1])\n",
    "point_2 = np.array([-2, 4, -2, 0])\n",
    "\n",
    "distance = np.linalg.norm(point_1-point_2)\n",
    "print(distance)\n",
    "pr = np.dot(point_1, point_2)\n",
    "print(\"Скалярное произведение:\",pr)\n",
    "Ma=np.sqrt(point_1.dot(point_1))\n",
    "Mb=np.sqrt(point_2.dot(point_2))\n",
    "print(\"Длина вектора a:\",Ma)\n",
    "print(\"Длина вектора b:\",Mb)\n",
    "cos_angle=point_1.dot(point_2)/(Ma*Mb)\n",
    "print(\"Cos:\",cos_angle)\n",
    "angle=np.arccos(cos_angle)\n",
    "angle2=angle*360/2/np.pi\n",
    "print(\"Угол между векторами:\",angle2)"
   ]
  },
  {
   "cell_type": "code",
   "execution_count": 3,
   "id": "62d6cee6",
   "metadata": {},
   "outputs": [
    {
     "name": "stdout",
     "output_type": "stream",
     "text": [
      "Скалярное произведение: -7\n",
      "Длина вектора a: 3.7416573867739413\n",
      "Длина вектора b: 2.6457513110645907\n",
      "Cos: -0.7071067811865476\n",
      "Угол между векторами: 135.0\n"
     ]
    }
   ],
   "source": [
    "#105 b \n",
    "point_1=np.array([-1, 3, 0, -2])\n",
    "point_2=np.array([2, -1, -1, 1])\n",
    "pr = np.dot(point_1, point_2)\n",
    "print(\"Скалярное произведение:\",pr)\n",
    "Ma=np.sqrt(point_1.dot(point_1))\n",
    "Mb=np.sqrt(point_2.dot(point_2))\n",
    "print(\"Длина вектора a:\",Ma)\n",
    "print(\"Длина вектора b:\",Mb)\n",
    "cos_angle=point_1.dot(point_2)/(Ma*Mb)\n",
    "print(\"Cos:\",cos_angle)\n",
    "angle=np.arccos(cos_angle)\n",
    "angle2=angle*360/2/np.pi\n",
    "print(\"Угол между векторами:\",angle2)"
   ]
  },
  {
   "cell_type": "code",
   "execution_count": 14,
   "id": "a5313ee0",
   "metadata": {},
   "outputs": [],
   "source": [
    "#105 c \n",
    "a=np.array([-2, -2, 2, 0])\n",
    "b=np.array([1, -1, -3, -1])\n",
    "pr = np.dot(point_1, point_2)\n",
    "print(\"Скалярное произведение:\",pr)\n",
    "Ma=np.sqrt(point_1.dot(point_1))\n",
    "Mb=np.sqrt(point_2.dot(point_2))\n",
    "print(\"Длина вектора a:\",Ma)\n",
    "print(\"Длина вектора b:\",Mb)\n",
    "os_angle=point_1.dot(point_2)/(Ma*Mb)\n",
    "print(\"Cos:\",cos_angle)\n",
    "angle=np.arccos(cos_angle)\n",
    "angle2=angle*360/2/np.pi\n",
    "print(\"Угол между векторами:\",angle2)"
   ]
  },
  {
   "cell_type": "code",
   "execution_count": 4,
   "id": "fc8cd051",
   "metadata": {},
   "outputs": [
    {
     "name": "stdout",
     "output_type": "stream",
     "text": [
      "Скалярное произведение: -7\n",
      "Длина вектора a: 3.7416573867739413\n",
      "Длина вектора b: 2.6457513110645907\n",
      "Cos: -0.7071067811865476\n",
      "Угол между векторами: 135.0\n"
     ]
    }
   ],
   "source": [
    "#105 d\n",
    "a=np.array([-1, 1, 2, -1])\n",
    "b=np.array([-2, -3, -1, -3])\n",
    "pr = np.dot(point_1, point_2)\n",
    "print(\"Скалярное произведение:\",pr)\n",
    "Ma=np.sqrt(point_1.dot(point_1))\n",
    "Mb=np.sqrt(point_2.dot(point_2))\n",
    "print(\"Длина вектора a:\",Ma)\n",
    "print(\"Длина вектора b:\",Mb)\n",
    "os_angle=point_1.dot(point_2)/(Ma*Mb)\n",
    "print(\"Cos:\",cos_angle)\n",
    "angle=np.arccos(cos_angle)\n",
    "angle2=angle*360/2/np.pi\n",
    "print(\"Угол между векторами:\",angle2)"
   ]
  },
  {
   "cell_type": "code",
   "execution_count": 5,
   "id": "359b8d82",
   "metadata": {},
   "outputs": [
    {
     "name": "stdout",
     "output_type": "stream",
     "text": [
      "Скалярное произведение: -7\n",
      "Длина вектора a: 3.7416573867739413\n",
      "Длина вектора b: 2.6457513110645907\n",
      "Cos: -0.7071067811865476\n",
      "Угол между векторами: 135.0\n"
     ]
    }
   ],
   "source": [
    "#105 e\n",
    "a=np.array([0, 2, -1, 2])\n",
    "b=np.array([-1, 1, 1, 1])\n",
    "pr = np.dot(point_1, point_2)\n",
    "print(\"Скалярное произведение:\",pr)\n",
    "Ma=np.sqrt(point_1.dot(point_1))\n",
    "Mb=np.sqrt(point_2.dot(point_2))\n",
    "print(\"Длина вектора a:\",Ma)\n",
    "print(\"Длина вектора b:\",Mb)\n",
    "cos_angle=point_1.dot(point_2)/(Ma*Mb)\n",
    "print(\"Cos:\",cos_angle)\n",
    "angle=np.arccos(cos_angle)\n",
    "angle2=angle*360/2/np.pi\n",
    "print(\"Угол между векторами:\",angle2)"
   ]
  },
  {
   "cell_type": "code",
   "execution_count": 7,
   "id": "f81fadb0",
   "metadata": {},
   "outputs": [
    {
     "name": "stdout",
     "output_type": "stream",
     "text": [
      "Скалярное произведение: -7\n",
      "Длина вектора a: 3.7416573867739413\n",
      "Длина вектора b: 2.6457513110645907\n",
      "Cos: -0.7071067811865476\n",
      "Угол между векторами: 135.0\n"
     ]
    }
   ],
   "source": [
    "# 105 f\n",
    "a=np.array([1, -1, 0, 3])\n",
    "b=np.array([1, 2, -1, 4])\n",
    "pr = np.dot(point_1, point_2)\n",
    "print(\"Скалярное произведение:\",pr)\n",
    "Ma=np.sqrt(point_1.dot(point_1))\n",
    "Mb=np.sqrt(point_2.dot(point_2))\n",
    "print(\"Длина вектора a:\",Ma)\n",
    "print(\"Длина вектора b:\",Mb)\n",
    "cos_angle=point_1.dot(point_2)/(Ma*Mb)\n",
    "print(\"Cos:\",cos_angle)\n",
    "angle=np.arccos(cos_angle)\n",
    "angle2=angle*360/2/np.pi\n",
    "print(\"Угол между векторами:\",angle2)"
   ]
  }
 ],
 "metadata": {
  "kernelspec": {
   "display_name": "Python 3",
   "language": "python",
   "name": "python3"
  },
  "language_info": {
   "codemirror_mode": {
    "name": "ipython",
    "version": 3
   },
   "file_extension": ".py",
   "mimetype": "text/x-python",
   "name": "python",
   "nbconvert_exporter": "python",
   "pygments_lexer": "ipython3",
   "version": "3.8.8"
  }
 },
 "nbformat": 4,
 "nbformat_minor": 5
}
